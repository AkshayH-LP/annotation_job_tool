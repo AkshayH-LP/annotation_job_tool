{
 "cells": [
  {
   "cell_type": "code",
   "execution_count": 1,
   "metadata": {},
   "outputs": [],
   "source": [
    "from google_handler import Google_handler\n",
    "from report_handler import *\n",
    "from smartlogic_handler import *\n",
    "from fig8_handler import *\n",
    "from s3_handler import *\n",
    "import csv"
   ]
  },
  {
   "cell_type": "code",
   "execution_count": null,
   "metadata": {},
   "outputs": [],
   "source": []
  },
  {
   "cell_type": "code",
   "execution_count": null,
   "metadata": {},
   "outputs": [],
   "source": []
  },
  {
   "cell_type": "code",
   "execution_count": 24,
   "metadata": {},
   "outputs": [],
   "source": [
    "def cml_generator(src, name, search_src, job_type = 'full_data'):\n",
    "    if job_type == 'full_data' or job_type == 'staged_topic':\n",
    "        base = \"\"\"<div class=\"row-fluid\">\n",
    "  <div class=\"html-element-wrapper\">\n",
    "    <h2>Please review the HIGHLIGHTED line in context to the text:</h2>\n",
    "    <div class=\"span5 anyClass well\">\n",
    "      <div class=\"quote_text\">{{start}} {{end}}</div>\n",
    "      <!--<p>{{soi}}</p>-->\n",
    "      <div class=\"external_content error full_text well\" data-url=\"{{url}}\"></div>\n",
    "    </div>\n",
    "  </div>\n",
    "  \n",
    "  <div class=\"span6\">\n",
    "    <cml:taxonomy only-if=\"\" src=\"%s\" name=\"%s\" label=\"\" aggregation=\"agg\" validates=\"required\" gold=\"true\" search-src=\"%s\"></cml:taxonomy>\n",
    "  </div>\n",
    "\n",
    "</div>\n",
    "\"\"\"\n",
    "    with open('cur.cml', 'w') as file:\n",
    "        file.write(base % (src,name, search_src))\n",
    "        \n",
    "    if job_type == \"staged_intent\":\n",
    "        base = \"\"\n",
    "        \n",
    "        "
   ]
  },
  {
   "cell_type": "code",
   "execution_count": 26,
   "metadata": {},
   "outputs": [],
   "source": [
    "cml_generator(\"livepersonBatch9\", \"intent\", \"https://taxonomyzer.figure-eight.com/taxonomies/984/search/livepersonBatch9.json\")"
   ]
  },
  {
   "cell_type": "code",
   "execution_count": null,
   "metadata": {},
   "outputs": [],
   "source": [
    "def instructions_generator():\n",
    "    "
   ]
  }
 ],
 "metadata": {
  "kernelspec": {
   "display_name": "Python 3",
   "language": "python",
   "name": "python3"
  },
  "language_info": {
   "codemirror_mode": {
    "name": "ipython",
    "version": 3
   },
   "file_extension": ".py",
   "mimetype": "text/x-python",
   "name": "python",
   "nbconvert_exporter": "python",
   "pygments_lexer": "ipython3",
   "version": "3.6.6"
  }
 },
 "nbformat": 4,
 "nbformat_minor": 2
}
