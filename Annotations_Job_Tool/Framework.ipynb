{
 "cells": [
  {
   "cell_type": "code",
   "execution_count": 1,
   "metadata": {},
   "outputs": [],
   "source": [
    "from google_handler import Google_handler\n",
    "from report_handler import *\n",
    "from smartlogic_handler import *\n",
    "from fig8_handler import *\n",
    "from s3_handler import *\n",
    "import csv"
   ]
  },
  {
   "cell_type": "code",
   "execution_count": null,
   "metadata": {},
   "outputs": [],
   "source": []
  },
  {
   "cell_type": "code",
   "execution_count": null,
   "metadata": {},
   "outputs": [],
   "source": []
  },
  {
   "cell_type": "code",
   "execution_count": 24,
   "metadata": {},
   "outputs": [],
   "source": [
    "def cml_generator(src, name, search_src, job_type = 'full_data'):\n",
    "    if job_type == 'full_data' or job_type == 'staged_topic':\n",
    "        base = \"\"\"<div class=\"row-fluid\">\n",
    "  <div class=\"html-element-wrapper\">\n",
    "    <h2>Please review the HIGHLIGHTED line in context to the text:</h2>\n",
    "    <div class=\"span5 anyClass well\">\n",
    "      <div class=\"quote_text\">{{start}} {{end}}</div>\n",
    "      <!--<p>{{soi}}</p>-->\n",
    "      <div class=\"external_content error full_text well\" data-url=\"{{url}}\"></div>\n",
    "    </div>\n",
    "  </div>\n",
    "  \n",
    "  <div class=\"span6\">\n",
    "    <cml:taxonomy only-if=\"\" src=\"%s\" name=\"%s\" label=\"\" aggregation=\"agg\" validates=\"required\" gold=\"true\" search-src=\"%s\"></cml:taxonomy>\n",
    "  </div>\n",
    "\n",
    "</div>\n",
    "\"\"\"\n",
    "    with open('cur.cml', 'w') as file:\n",
    "        file.write(base % (src,name, search_src))\n",
    "        \n",
    "    if job_type == \"staged_intent\":\n",
    "        base = \"\"\"<div class=\"row-fluid\">\n",
    "  <div class=\"html-element-wrapper\">\n",
    "    <h2>Please review the HIGHLIGHTED line in context to the text:</h2>\n",
    "    <div class=\"span5 anyClass well\">\n",
    "      <div class=\"quote_text\">{{start}} {{end}}</div>\n",
    "      <!--<p>{{soi}}</p>-->\n",
    "      <div class=\"external_content error full_text well\" data-url=\"{{url}}\"></div>\n",
    "    </div>\n",
    "  </div>\n",
    "  \n",
    "  <div class=\"span6\">\"\"\"\n",
    "        \n",
    "        tail = \"\"\"\n",
    "        </div>\n",
    "\n",
    "</div>\n",
    "        \"\"\"\n",
    "        mid = create_staged(_topic, src, search_src)\n",
    "        \n",
    "        "
   ]
  },
  {
   "cell_type": "code",
   "execution_count": 27,
   "metadata": {},
   "outputs": [],
   "source": [
    "cml_generator(\"livepersonBatch9\", \"intent\", \"https://taxonomyzer.figure-eight.com/taxonomies/984/search/livepersonBatch9.json\")"
   ]
  },
  {
   "cell_type": "code",
   "execution_count": 93,
   "metadata": {},
   "outputs": [],
   "source": [
    "def create_staged(_topic, src, search_src):\n",
    "    start = \"\"\" {% for word in _topic %}\"\"\"\n",
    "    end = \"\"\" {% endif %} \n",
    "        {% endfor %} \"\"\"\n",
    "\n",
    "    first_loop = \"\"\"{% if word == \"\"\" + \"\"\"\"%s\" \"\"\" % str(_topic[0]) + \"\"\" %}\"\"\"  +  \"\"\" <cml:taxonomy src=\"%s\" label=\"Sample Information Tree\" name=\"%s\"  validates=\"required\"/>\n",
    "    \"\"\" % (src[0], _topic[0])\n",
    "\n",
    "    el_loop_1 = \"\"\" {% elsif word == \"\"\" \n",
    "    el_loop_2 = \"\"\"\"%s\" \"\"\"   \n",
    "    el_loop_3 = \"\"\" %}\"\"\" \n",
    "    el_loop_4 = \"\"\" <cml:taxonomy only-if=\"\" src=\"%s\" name=\"%s\" label=\"\" aggregation=\"agg\" validates=\"required\" gold=\"true\" search-src=\"%s\"></cml:taxonomy> \"\"\"\n",
    "\n",
    "    main = start + first_loop\n",
    "\n",
    "    for index, word in enumerate(_topic[1:]):\n",
    "        main += (el_loop_1 + el_loop_2 % (word) + el_loop_3 + el_loop_4 % (src[index], word, search_src[index]))\n",
    "        main += \"\\n\"\n",
    "\n",
    "    main += end\n",
    "    return main"
   ]
  },
  {
   "cell_type": "code",
   "execution_count": 94,
   "metadata": {},
   "outputs": [],
   "source": [
    "src = ['lpbatch11part2tax1','lpbatch11part2tax1','lpbatch11part2tax1']\n",
    "search_src = [\"https://taxonomyzer.figure-eight.com/taxonomies/1032/search/lpbatch11part2tax1.json\",\"https://taxonomyzer.figure-eight.com/taxonomies/1032/search/lpbatch11part2tax1.json\",\"https://taxonomyzer.figure-eight.com/taxonomies/1032/search/lpbatch11part2tax1.json\"]\n",
    "_topic = [\"adjustment_to_existing_service_or_product\", \"adjustment_to_existing_service_or_product\", \"adjustment_to_existing_service_or_product\"]"
   ]
  },
  {
   "cell_type": "code",
   "execution_count": 95,
   "metadata": {},
   "outputs": [
    {
     "data": {
      "text/plain": [
       "' {% for word in _topic %}{% if word == \"adjustment_to_existing_service_or_product\"  %} <cml:taxonomy src=\"lpbatch11part2tax1\" label=\"Sample Information Tree\" name=\"adjustment_to_existing_service_or_product\"  validates=\"required\"/>\\n     {% elsif word == \"adjustment_to_existing_service_or_product\"  %} <cml:taxonomy only-if=\"\" src=\"lpbatch11part2tax1\" name=\"adjustment_to_existing_service_or_product\" label=\"\" aggregation=\"agg\" validates=\"required\" gold=\"true\" search-src=\"https://taxonomyzer.figure-eight.com/taxonomies/1032/search/lpbatch11part2tax1.json\"></cml:taxonomy> \\n {% elsif word == \"adjustment_to_existing_service_or_product\"  %} <cml:taxonomy only-if=\"\" src=\"lpbatch11part2tax1\" name=\"adjustment_to_existing_service_or_product\" label=\"\" aggregation=\"agg\" validates=\"required\" gold=\"true\" search-src=\"https://taxonomyzer.figure-eight.com/taxonomies/1032/search/lpbatch11part2tax1.json\"></cml:taxonomy> \\n {% endif %} \\n        {% endfor %} '"
      ]
     },
     "execution_count": 95,
     "metadata": {},
     "output_type": "execute_result"
    }
   ],
   "source": [
    "create_staged(_topic, src, search_src)"
   ]
  },
  {
   "cell_type": "code",
   "execution_count": null,
   "metadata": {},
   "outputs": [],
   "source": [
    "mid = \"\"\"\n",
    "        {% for word in _topic %}\n",
    "    \n",
    "  {% if word == \"adjustment_to_existing_service_or_product\" %}\n",
    "    <!--<cml:taxonomy only-if=\"\" src=\"lpbatch11part2tax1\" name=\"adjustment_to_existing_service_or_product\" label=\"\" aggregation=\"agg\" validates=\"required\" gold=\"true\" search-src=\"https://taxonomyzer.figure-eight.com/taxonomies/1032/search/lpbatch11part2tax1.json\"></cml:taxonomy>-->\n",
    "\n",
    "    <cml:taxonomy src=\"mytaxonomy1\" label=\"Sample Information Tree\" name=\"adjustment_to_existing_service_or_product\"  validates=\"required\"/>\n",
    "\n",
    "\n",
    "\n",
    "{% elsif word == \"information_request_for_service_or_product\" %}    \n",
    "    <cml:taxonomy src=\"mytaxonomy2\" label=\"Sample Information Tree\" name=\"adjustment_to_existing_service_or_product\"  validates=\"required\"/>\n",
    "\n",
    "\n",
    "   \n",
    "{% elsif word == \"purchase_or_upgrade_a_service_or_product\" %}  \n",
    "    <cml:taxonomy only-if=\"\" src=\"lpbatch11part2tax3\" name=\"purchase_or_upgrade_a_service_or_product\" label=\"\" aggregation=\"agg\" validates=\"required\" gold=\"true\" search-src=\"https://taxonomyzer.figure-eight.com/taxonomies/1034/search/lpbatch11part2tax3.json\"></cml:taxonomy>\n",
    "\n",
    "\n",
    "\n",
    "\n",
    "{% elsif word == \"solve_existing_service_or_product_problem\" %}  \n",
    "    <cml:taxonomy only-if=\"\" src=\"lpbatch11part2tax4\" name=\"solve_existing_service_or_product_problem\" label=\"\" aggregation=\"agg\" validates=\"required\" gold=\"true\" search-src=\"https://taxonomyzer.figure-eight.com/taxonomies/1035/search/lpbatch11part2tax4.json\"></cml:taxonomy>\n",
    "\n",
    "\n",
    "\n",
    "\n",
    "{% elsif word == \"suspend_remove_or_cancel_existing_service_or_product\" %}  \n",
    "    <cml:taxonomy only-if=\"\" src=\"lpbatch11part2tax5\" name=\"suspend_remove_or_cancel_existing_service_or_product\" label=\"\" aggregation=\"agg\" validates=\"required\" gold=\"true\" search-src=\"https://taxonomyzer.figure-eight.com/taxonomies/1036/search/lpbatch11part2tax5.json\"></cml:taxonomy>\n",
    "\n",
    "\n",
    "{% elsif word == \"not intent\" %} \n",
    "    <p>Descriptions that do not have an intent\n",
    "</p>\n",
    "    <cml:radios label=\"Select the most relevant category for highlighted words:\" validates=\"required\" name=\"not_intent\">\n",
    "      <cml:radio label=\"not intent\"></cml:radio>\n",
    "    </cml:radios>\n",
    "\n",
    "\n",
    "{% endif %}\n",
    "{% endfor %}\n",
    "        \n",
    "        \"\"\""
   ]
  },
  {
   "cell_type": "code",
   "execution_count": 96,
   "metadata": {},
   "outputs": [
    {
     "ename": "SyntaxError",
     "evalue": "unexpected EOF while parsing (<ipython-input-96-50094cbddc9a>, line 2)",
     "output_type": "error",
     "traceback": [
      "\u001b[0;36m  File \u001b[0;32m\"<ipython-input-96-50094cbddc9a>\"\u001b[0;36m, line \u001b[0;32m2\u001b[0m\n\u001b[0;31m    ### To-Do instructions generator\u001b[0m\n\u001b[0m                                    ^\u001b[0m\n\u001b[0;31mSyntaxError\u001b[0m\u001b[0;31m:\u001b[0m unexpected EOF while parsing\n"
     ]
    }
   ],
   "source": [
    "def instructions_generator():\n",
    "    ### To-Do instructions generator"
   ]
  },
  {
   "cell_type": "code",
   "execution_count": null,
   "metadata": {},
   "outputs": [],
   "source": []
  },
  {
   "cell_type": "code",
   "execution_count": null,
   "metadata": {},
   "outputs": [],
   "source": []
  },
  {
   "cell_type": "code",
   "execution_count": null,
   "metadata": {},
   "outputs": [],
   "source": []
  },
  {
   "cell_type": "code",
   "execution_count": null,
   "metadata": {},
   "outputs": [],
   "source": []
  },
  {
   "cell_type": "code",
   "execution_count": null,
   "metadata": {},
   "outputs": [],
   "source": []
  },
  {
   "cell_type": "code",
   "execution_count": null,
   "metadata": {},
   "outputs": [],
   "source": []
  },
  {
   "cell_type": "code",
   "execution_count": null,
   "metadata": {},
   "outputs": [],
   "source": []
  },
  {
   "cell_type": "code",
   "execution_count": null,
   "metadata": {},
   "outputs": [],
   "source": []
  }
 ],
 "metadata": {
  "kernelspec": {
   "display_name": "Python 3",
   "language": "python",
   "name": "python3"
  },
  "language_info": {
   "codemirror_mode": {
    "name": "ipython",
    "version": 3
   },
   "file_extension": ".py",
   "mimetype": "text/x-python",
   "name": "python",
   "nbconvert_exporter": "python",
   "pygments_lexer": "ipython3",
   "version": "3.6.6"
  }
 },
 "nbformat": 4,
 "nbformat_minor": 2
}
